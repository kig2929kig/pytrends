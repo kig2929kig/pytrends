{
  "nbformat": 4,
  "nbformat_minor": 0,
  "metadata": {
    "colab": {
      "provenance": [],
      "authorship_tag": "ABX9TyPGacH/FTbuF0ftz4C1NsXE",
      "include_colab_link": true
    },
    "kernelspec": {
      "name": "python3",
      "display_name": "Python 3"
    },
    "language_info": {
      "name": "python"
    }
  },
  "cells": [
    {
      "cell_type": "markdown",
      "metadata": {
        "id": "view-in-github",
        "colab_type": "text"
      },
      "source": [
        "<a href=\"https://colab.research.google.com/github/kig2929kig/pytrends/blob/main/google_trends.ipynb\" target=\"_parent\"><img src=\"https://colab.research.google.com/assets/colab-badge.svg\" alt=\"Open In Colab\"/></a>"
      ]
    },
    {
      "cell_type": "markdown",
      "source": [
        "#Pytrends\n",
        "> Google 트렌드에서 트레드 결과를 다운로드하는 다양한 방법을 제공하는 비공식 API"
      ],
      "metadata": {
        "id": "LCorOekrigJy"
      }
    },
    {
      "cell_type": "markdown",
      "source": [
        "1. Pytrends API 설치"
      ],
      "metadata": {
        "id": "7XTZk-Uci8LD"
      }
    },
    {
      "cell_type": "code",
      "execution_count": null,
      "metadata": {
        "id": "V_kjEzaCifki"
      },
      "outputs": [],
      "source": [
        "!pip install pytrends"
      ]
    },
    {
      "cell_type": "markdown",
      "source": [
        "2. Google 트렌드에 연결"
      ],
      "metadata": {
        "id": "rnHu8zAVjR8S"
      }
    },
    {
      "cell_type": "code",
      "source": [
        "# -*- coding: utf-8 -*\n",
        "from pytrends.request import TrendReq\n",
        "\n",
        "pytrends = TrendReq(hl=\"ko\", tz=540)\n",
        "#print(type(pytrends), pytrends)"
      ],
      "metadata": {
        "id": "BXh3pUdMjXNg"
      },
      "execution_count": 2,
      "outputs": []
    },
    {
      "cell_type": "markdown",
      "source": [
        "- hl = host language, tz = timezone\n",
        "- 한국어, 한국시간기준 (https://forbrains.co.uk/international_tools/earth_timezones)\n",
        "- KST Korea Standard Time 540"
      ],
      "metadata": {
        "id": "rHZdLENgjpg6"
      }
    },
    {
      "cell_type": "markdown",
      "source": [
        "3. Google 트렌드에서 검색하려는 키워드 목록을 작성"
      ],
      "metadata": {
        "id": "nzSdIafslgxy"
      }
    },
    {
      "cell_type": "code",
      "source": [
        "kw_list = [\"박은빈\"]\n",
        "pytrends.build_payload(kw_list, cat=0, timeframe='today 12-m', geo='', gprop='')\n",
        "# build_payload 메소드에서 지정한 기간에 따라 Google 트렌드에서 검색된 키워드의 과거 데이터를 반환\n",
        "data = pytrends.interest_over_time()\n",
        " # 인텍스 재설정\n",
        "data = data.reset_index()\n",
        "#data.head()\n",
        "print(data)\n"
      ],
      "metadata": {
        "colab": {
          "base_uri": "https://localhost:8080/"
        },
        "id": "EjfD305Rj0Dp",
        "outputId": "2ac715ef-f773-40a8-e86d-f365c87ac7c5"
      },
      "execution_count": 13,
      "outputs": [
        {
          "output_type": "stream",
          "name": "stdout",
          "text": [
            "         date  박은빈  우영우  isPartial\n",
            "0  2021-10-03    3    0      False\n",
            "1  2021-10-10    7    0      False\n",
            "2  2021-10-17    6    0      False\n",
            "3  2021-10-24    8    0      False\n",
            "4  2021-10-31   10    0      False\n",
            "5  2021-11-07   12    0      False\n",
            "6  2021-11-14   14    0      False\n",
            "7  2021-11-21   14    0      False\n",
            "8  2021-11-28    7    0      False\n",
            "9  2021-12-05    7    0      False\n",
            "10 2021-12-12   12    0      False\n",
            "11 2021-12-19    7    0      False\n",
            "12 2021-12-26   11    0      False\n",
            "13 2022-01-02    5    0      False\n",
            "14 2022-01-09    4    0      False\n",
            "15 2022-01-16    3    0      False\n",
            "16 2022-01-23    3    0      False\n",
            "17 2022-01-30    4    0      False\n",
            "18 2022-02-06    2    0      False\n",
            "19 2022-02-13    2    0      False\n",
            "20 2022-02-20    2    0      False\n",
            "21 2022-02-27    2    0      False\n",
            "22 2022-03-06    4    0      False\n",
            "23 2022-03-13    2    0      False\n",
            "24 2022-03-20    3    0      False\n",
            "25 2022-03-27    3    0      False\n",
            "26 2022-04-03    2    0      False\n",
            "27 2022-04-10    4    0      False\n",
            "28 2022-04-17    2    0      False\n",
            "29 2022-04-24    2    0      False\n",
            "30 2022-05-01    3    0      False\n",
            "31 2022-05-08    3    0      False\n",
            "32 2022-05-15    4    0      False\n",
            "33 2022-05-22    3    0      False\n",
            "34 2022-05-29    2    0      False\n",
            "35 2022-06-05    4    0      False\n",
            "36 2022-06-12    3    0      False\n",
            "37 2022-06-19    5    0      False\n",
            "38 2022-06-26   19    0      False\n",
            "39 2022-07-03   71    0      False\n",
            "40 2022-07-10  100    0      False\n",
            "41 2022-07-17   84    0      False\n",
            "42 2022-07-24   72    0      False\n",
            "43 2022-07-31   64    0      False\n",
            "44 2022-08-07   50    0      False\n",
            "45 2022-08-14   51    0      False\n",
            "46 2022-08-21   38    0      False\n",
            "47 2022-08-28   25    0      False\n",
            "48 2022-09-04   24    0      False\n",
            "49 2022-09-11   18    0      False\n",
            "50 2022-09-18   12    0      False\n",
            "51 2022-09-25   12    0       True\n"
          ]
        }
      ]
    },
    {
      "cell_type": "markdown",
      "source": [
        "4. 데이터 시각화 : pyplot\n",
        "* https://matplotlib.org/stable/tutorials/introductory/pyplot.html\n"
      ],
      "metadata": {
        "id": "QvN0LM_fmIXJ"
      }
    },
    {
      "cell_type": "code",
      "source": [
        "import matplotlib.pyplot as plt\n",
        "#plt.plot([1,2,3,4]) # x축 값은 0부터 자동으로 생성\n",
        "plt.plot([1,2,3,4], [1,4,9,16]) # [x축][y축]\n",
        "#plt.plot([1,2,3,4], [1,4,9,16], 'ro') # [x축][y축]\n",
        "plt.axis([0,10,0,20]) # 축의 범위 지정 \n",
        "plt.ylabel(\"some numbers\")\n",
        "plt.show()"
      ],
      "metadata": {
        "colab": {
          "base_uri": "https://localhost:8080/",
          "height": 269
        },
        "id": "5_sRR2jDqhjC",
        "outputId": "2bd94345-0048-4e76-aa6a-99aa7b1c969c"
      },
      "execution_count": 4,
      "outputs": [
        {
          "output_type": "display_data",
          "data": {
            "text/plain": [
              "<Figure size 432x288 with 1 Axes>"
            ],
            "image/png": "[encoded data removed]"
          },
          "metadata": {
            "needs_background": "light"
          }
        }
      ]
    },
    {
      "cell_type": "markdown",
      "source": [
        "[한글깨짐]\n",
        "나눔폰트 설치 후 colab 런타임 재시작"
      ],
      "metadata": {
        "id": "MEJhaec60FYx"
      }
    },
    {
      "cell_type": "code",
      "source": [
        "!sudo apt-get install -y fonts-nanum\n",
        "!sudo fc-cache -fv\n",
        "!rm ~/.cache/matplotlib -rf"
      ],
      "metadata": {
        "colab": {
          "base_uri": "https://localhost:8080/"
        },
        "id": "4hPJI4JJ1PKg",
        "outputId": "120e7a8a-e7c0-4afc-8e04-e17ea5ed4562"
      },
      "execution_count": 97,
      "outputs": [
        {
          "output_type": "stream",
          "name": "stdout",
          "text": [
            "Reading package lists... Done\n",
            "Building dependency tree       \n",
            "Reading state information... Done\n",
            "The following package was automatically installed and is no longer required:\n",
            "  libnvidia-common-460\n",
            "Use 'sudo apt autoremove' to remove it.\n",
            "The following NEW packages will be installed:\n",
            "  fonts-nanum\n",
            "0 upgraded, 1 newly installed, 0 to remove and 20 not upgraded.\n",
            "Need to get 9,604 kB of archives.\n",
            "After this operation, 29.5 MB of additional disk space will be used.\n",
            "Get:1 http://archive.ubuntu.com/ubuntu bionic/universe amd64 fonts-nanum all 20170925-1 [9,604 kB]\n",
            "Fetched 9,604 kB in 1s (11.8 MB/s)\n",
            "debconf: unable to initialize frontend: Dialog\n",
            "debconf: (No usable dialog-like program is installed, so the dialog based frontend cannot be used. at /usr/share/perl5/Debconf/FrontEnd/Dialog.pm line 76, <> line 1.)\n",
            "debconf: falling back to frontend: Readline\n",
            "debconf: unable to initialize frontend: Readline\n",
            "debconf: (This frontend requires a controlling tty.)\n",
            "debconf: falling back to frontend: Teletype\n",
            "dpkg-preconfigure: unable to re-open stdin: \n",
            "Selecting previously unselected package fonts-nanum.\n",
            "(Reading database ... 159447 files and directories currently installed.)\n",
            "Preparing to unpack .../fonts-nanum_20170925-1_all.deb ...\n",
            "Unpacking fonts-nanum (20170925-1) ...\n",
            "Setting up fonts-nanum (20170925-1) ...\n",
            "Processing triggers for fontconfig (2.12.6-0ubuntu2) ...\n",
            "/usr/share/fonts: caching, new cache contents: 0 fonts, 1 dirs\n",
            "/usr/share/fonts/truetype: caching, new cache contents: 0 fonts, 3 dirs\n",
            "/usr/share/fonts/truetype/humor-sans: caching, new cache contents: 1 fonts, 0 dirs\n",
            "/usr/share/fonts/truetype/liberation: caching, new cache contents: 16 fonts, 0 dirs\n",
            "/usr/share/fonts/truetype/nanum: caching, new cache contents: 10 fonts, 0 dirs\n",
            "/usr/local/share/fonts: caching, new cache contents: 0 fonts, 0 dirs\n",
            "/root/.local/share/fonts: skipping, no such directory\n",
            "/root/.fonts: skipping, no such directory\n",
            "/var/cache/fontconfig: cleaning cache directory\n",
            "/root/.cache/fontconfig: not cleaning non-existent cache directory\n",
            "/root/.fontconfig: not cleaning non-existent cache directory\n",
            "fc-cache: succeeded\n"
          ]
        }
      ]
    },
    {
      "cell_type": "code",
      "source": [
        "plt.rc('font', family='NanumBarunGothic')"
      ],
      "metadata": {
        "id": "UzHXMIqF2SEJ"
      },
      "execution_count": 7,
      "outputs": []
    },
    {
      "cell_type": "markdown",
      "source": [
        "5. 구글 트렌드로 검색한 결과를 그래프로 보여주기."
      ],
      "metadata": {
        "id": "3SLv6HCqtk_w"
      }
    },
    {
      "cell_type": "code",
      "source": [
        "import matplotlib.pyplot as plt\n",
        "#plt.style.use(\"ggplot\")\n",
        "#plt.figure(figsize=(14,5))\n",
        "data[kw_list].plot()\n",
        "plt.title(\"구글 트렌드\")"
      ],
      "metadata": {
        "colab": {
          "base_uri": "https://localhost:8080/",
          "height": 299
        },
        "id": "YXKLdvhTtZtB",
        "outputId": "3a5d7f95-7c12-4055-c0cc-f1ed7b9c5bcf"
      },
      "execution_count": 11,
      "outputs": [
        {
          "output_type": "execute_result",
          "data": {
            "text/plain": [
              "Text(0.5, 1.0, '구글 트렌드')"
            ]
          },
          "metadata": {},
          "execution_count": 11
        },
        {
          "output_type": "display_data",
          "data": {
            "text/plain": [
              "<Figure size 432x288 with 1 Axes>"
            ],
            "image/png": "[encoded data removed]"
          },
          "metadata": {
            "needs_background": "light"
          }
        }
      ]
    }
  ]
}