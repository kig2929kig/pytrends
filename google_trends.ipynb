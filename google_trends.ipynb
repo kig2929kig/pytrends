{
  "nbformat": 4,
  "nbformat_minor": 0,
  "metadata": {
    "colab": {
      "provenance": [],
      "authorship_tag": "ABX9TyNhza2d0VnnNur5a602dLrf",
      "include_colab_link": true
    },
    "kernelspec": {
      "name": "python3",
      "display_name": "Python 3"
    },
    "language_info": {
      "name": "python"
    }
  },
  "cells": [
    {
      "cell_type": "markdown",
      "metadata": {
        "id": "view-in-github",
        "colab_type": "text"
      },
      "source": [
        "<a href=\"https://colab.research.google.com/github/kig2929kig/pytrends/blob/main/google_trends.ipynb\" target=\"_parent\"><img src=\"https://colab.research.google.com/assets/colab-badge.svg\" alt=\"Open In Colab\"/></a>"
      ]
    },
    {
      "cell_type": "markdown",
      "source": [
        "#Pytrends\n",
        "> Google 트렌드에서 트레드 결과를 다운로드하는 다양한 방법을 제공하는 비공식 API"
      ],
      "metadata": {
        "id": "LCorOekrigJy"
      }
    },
    {
      "cell_type": "markdown",
      "source": [
        "1. Pytrends API 설치"
      ],
      "metadata": {
        "id": "7XTZk-Uci8LD"
      }
    },
    {
      "cell_type": "code",
      "execution_count": null,
      "metadata": {
        "id": "V_kjEzaCifki"
      },
      "outputs": [],
      "source": [
        "!pip install pytrends"
      ]
    },
    {
      "cell_type": "markdown",
      "source": [
        "2. Google 트렌드에 연결"
      ],
      "metadata": {
        "id": "rnHu8zAVjR8S"
      }
    },
    {
      "cell_type": "code",
      "source": [
        "# -*- coding: utf-8 -*\n",
        "from pytrends.request import TrendReq\n",
        "\n",
        "pytrends = TrendReq(hl=\"ko\", tz=540)\n",
        "#print(type(pytrends), pytrends)"
      ],
      "metadata": {
        "id": "BXh3pUdMjXNg"
      },
      "execution_count": 2,
      "outputs": []
    },
    {
      "cell_type": "markdown",
      "source": [
        "- hl = host language, tz = timezone\n",
        "- 한국어, 한국시간기준 (https://forbrains.co.uk/international_tools/earth_timezones)\n",
        "- KST Korea Standard Time 540"
      ],
      "metadata": {
        "id": "rHZdLENgjpg6"
      }
    },
    {
      "cell_type": "markdown",
      "source": [
        "3. Google 트렌드에서 검색하려는 키워드 목록을 작성"
      ],
      "metadata": {
        "id": "nzSdIafslgxy"
      }
    },
    {
      "cell_type": "code",
      "source": [
        "kw_list = [\"박은빈\"]\n",
        "pytrends.build_payload(kw_list, cat=0, timeframe='today 12-m', geo='', gprop='')\n",
        "# build_payload 메소드에서 지정한 기간에 따라 Google 트렌드에서 검색된 키워드의 과거 데이터를 반환\n",
        "data = pytrends.interest_over_time()\n",
        " # 인텍스 재설정\n",
        "#data = data.reset_index()\n",
        "#data.head()\n",
        "print(data)\n"
      ],
      "metadata": {
        "colab": {
          "base_uri": "https://localhost:8080/"
        },
        "id": "EjfD305Rj0Dp",
        "outputId": "d96d4e1f-c92a-4d88-db30-a16dc9190f31"
      },
      "execution_count": 30,
      "outputs": [
        {
          "output_type": "stream",
          "name": "stdout",
          "text": [
            "            박은빈  isPartial\n",
            "date                      \n",
            "2021-10-03    3      False\n",
            "2021-10-10    7      False\n",
            "2021-10-17    6      False\n",
            "2021-10-24    8      False\n",
            "2021-10-31   10      False\n",
            "2021-11-07   12      False\n",
            "2021-11-14   14      False\n",
            "2021-11-21   14      False\n",
            "2021-11-28    7      False\n",
            "2021-12-05    7      False\n",
            "2021-12-12   12      False\n",
            "2021-12-19    7      False\n",
            "2021-12-26   11      False\n",
            "2022-01-02    5      False\n",
            "2022-01-09    4      False\n",
            "2022-01-16    3      False\n",
            "2022-01-23    3      False\n",
            "2022-01-30    4      False\n",
            "2022-02-06    2      False\n",
            "2022-02-13    2      False\n",
            "2022-02-20    2      False\n",
            "2022-02-27    2      False\n",
            "2022-03-06    4      False\n",
            "2022-03-13    2      False\n",
            "2022-03-20    3      False\n",
            "2022-03-27    3      False\n",
            "2022-04-03    2      False\n",
            "2022-04-10    4      False\n",
            "2022-04-17    2      False\n",
            "2022-04-24    2      False\n",
            "2022-05-01    3      False\n",
            "2022-05-08    3      False\n",
            "2022-05-15    4      False\n",
            "2022-05-22    3      False\n",
            "2022-05-29    2      False\n",
            "2022-06-05    4      False\n",
            "2022-06-12    3      False\n",
            "2022-06-19    5      False\n",
            "2022-06-26   19      False\n",
            "2022-07-03   71      False\n",
            "2022-07-10  100      False\n",
            "2022-07-17   84      False\n",
            "2022-07-24   72      False\n",
            "2022-07-31   64      False\n",
            "2022-08-07   50      False\n",
            "2022-08-14   51      False\n",
            "2022-08-21   38      False\n",
            "2022-08-28   25      False\n",
            "2022-09-04   24      False\n",
            "2022-09-11   18      False\n",
            "2022-09-18   11      False\n",
            "2022-09-25   10       True\n"
          ]
        }
      ]
    },
    {
      "cell_type": "markdown",
      "source": [
        "4. 데이터 시각화 : pyplot\n",
        "* https://matplotlib.org/stable/tutorials/introductory/pyplot.html\n"
      ],
      "metadata": {
        "id": "QvN0LM_fmIXJ"
      }
    },
    {
      "cell_type": "code",
      "source": [
        "import matplotlib.pyplot as plt\n",
        "#plt.plot([1,2,3,4]) # x축 값은 0부터 자동으로 생성\n",
        "plt.plot([1,2,3,4], [1,4,9,16]) # [x축][y축]\n",
        "#plt.plot([1,2,3,4], [1,4,9,16], 'ro') # [x축][y축]\n",
        "plt.axis([0,10,0,20]) # 축의 범위 지정 \n",
        "plt.ylabel(\"some numbers\")\n",
        "plt.show()"
      ],
      "metadata": {
        "colab": {
          "base_uri": "https://localhost:8080/",
          "height": 269
        },
        "id": "5_sRR2jDqhjC",
        "outputId": "2bd94345-0048-4e76-aa6a-99aa7b1c969c"
      },
      "execution_count": 4,
      "outputs": [
        {
          "output_type": "display_data",
          "data": {
            "text/plain": [
              "<Figure size 432x288 with 1 Axes>"
            ],
            "image/png": "[encoded data removed]"
          },
          "metadata": {
            "needs_background": "light"
          }
        }
      ]
    },
    {
      "cell_type": "markdown",
      "source": [
        "[한글깨짐]\n",
        "나눔폰트 설치 후 colab 런타임 재시작"
      ],
      "metadata": {
        "id": "MEJhaec60FYx"
      }
    },
    {
      "cell_type": "code",
      "source": [
        "!sudo apt-get install -y fonts-nanum\n",
        "!sudo fc-cache -fv\n",
        "!rm ~/.cache/matplotlib -rf"
      ],
      "metadata": {
        "id": "4hPJI4JJ1PKg"
      },
      "execution_count": null,
      "outputs": []
    },
    {
      "cell_type": "code",
      "source": [
        "plt.rc('font', family='NanumBarunGothic')"
      ],
      "metadata": {
        "id": "UzHXMIqF2SEJ"
      },
      "execution_count": 7,
      "outputs": []
    },
    {
      "cell_type": "markdown",
      "source": [
        "5. 구글 트렌드로 검색한 결과를 그래프로 보여주기."
      ],
      "metadata": {
        "id": "3SLv6HCqtk_w"
      }
    },
    {
      "cell_type": "code",
      "source": [
        "import matplotlib.pyplot as plt\n",
        "#plt.style.use(\"ggplot\")\n",
        "plt.rcParams[\"figure.figsize\"] = (8,4) #(가로,세로)\n",
        "data[kw_list].plot()\n",
        "plt.title(\"구글 트렌드\", size=15)\n",
        "plt.legend(labels=[kw_list], loc=\"upper right\") #범례\n",
        "plt.show()"
      ],
      "metadata": {
        "colab": {
          "base_uri": "https://localhost:8080/",
          "height": 309
        },
        "id": "YXKLdvhTtZtB",
        "outputId": "e212c850-1110-4736-b579-06cba74fa4b0"
      },
      "execution_count": 41,
      "outputs": [
        {
          "output_type": "display_data",
          "data": {
            "text/plain": [
              "<Figure size 576x288 with 1 Axes>"
            ],
            "image/png": "[encoded data removed]"
          },
          "metadata": {
            "needs_background": "light"
          }
        }
      ]
    },
    {
      "cell_type": "markdown",
      "source": [
        "6. 그래프 저장하기"
      ],
      "metadata": {
        "id": "5YPRUtOs7LpH"
      }
    },
    {
      "cell_type": "code",
      "source": [
        "import os\n",
        "cwd = os.getcwd()\n",
        "output_filepath = os.path.join(cwd, \".\", \"google_trend_%s.png\" % kw_list)\n",
        "plt.savefig(output_filepath, dpi=100)\n",
        "plt.show()"
      ],
      "metadata": {
        "colab": {
          "base_uri": "https://localhost:8080/",
          "height": 36
        },
        "id": "QIIDvVn-7Ohm",
        "outputId": "feb1ac2a-4dd7-4762-8b45-faa072c8ff75"
      },
      "execution_count": 47,
      "outputs": [
        {
          "output_type": "display_data",
          "data": {
            "text/plain": [
              "<Figure size 576x288 with 0 Axes>"
            ]
          },
          "metadata": {}
        }
      ]
    },
    {
      "cell_type": "code",
      "source": [
        "!ls -al"
      ],
      "metadata": {
        "colab": {
          "base_uri": "https://localhost:8080/"
        },
        "id": "jxzpCF4r9xF4",
        "outputId": "64816507-38a7-4b9c-e480-92ec9efd706b"
      },
      "execution_count": 49,
      "outputs": [
        {
          "output_type": "stream",
          "name": "stdout",
          "text": [
            "total 20\n",
            "drwxr-xr-x 1 root root 4096 Sep 29 11:08  .\n",
            "drwxr-xr-x 1 root root 4096 Sep 29 09:19  ..\n",
            "drwxr-xr-x 4 root root 4096 Sep 26 13:44  .config\n",
            "-rw-r--r-- 1 root root 2291 Sep 29 11:17 'google_trend_['\\''박은빈'\\''].png'\n",
            "drwxr-xr-x 1 root root 4096 Sep 26 13:45  sample_data\n"
          ]
        }
      ]
    }
  ]
}